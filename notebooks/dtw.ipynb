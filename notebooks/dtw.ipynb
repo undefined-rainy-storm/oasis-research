{
 "cells": [
  {
   "cell_type": "code",
   "execution_count": 2,
   "metadata": {},
   "outputs": [
    {
     "name": "stdout",
     "output_type": "stream",
     "text": [
      "Collecting dtaidistance\n",
      "  Downloading dtaidistance-2.3.12-cp310-cp310-macosx_10_9_universal2.whl.metadata (13 kB)\n",
      "Requirement already satisfied: numpy in /opt/anaconda3/envs/ai-lecture-3.10/lib/python3.10/site-packages (from dtaidistance) (1.26.4)\n",
      "Downloading dtaidistance-2.3.12-cp310-cp310-macosx_10_9_universal2.whl (1.6 MB)\n",
      "\u001b[2K   \u001b[90m━━━━━━━━━━━━━━━━━━━━━━━━━━━━━━━━━━━━━━━━\u001b[0m \u001b[32m1.6/1.6 MB\u001b[0m \u001b[31m6.2 MB/s\u001b[0m eta \u001b[36m0:00:00\u001b[0ma \u001b[36m0:00:01\u001b[0m\n",
      "\u001b[?25hInstalling collected packages: dtaidistance\n",
      "Successfully installed dtaidistance-2.3.12\n",
      "Note: you may need to restart the kernel to use updated packages.\n"
     ]
    }
   ],
   "source": [
    "%pip install dtaidistance"
   ]
  },
  {
   "cell_type": "code",
   "execution_count": 5,
   "metadata": {},
   "outputs": [
    {
     "ename": "ValueError",
     "evalue": "The truth value of an array with more than one element is ambiguous. Use a.any() or a.all()",
     "output_type": "error",
     "traceback": [
      "\u001b[0;31m---------------------------------------------------------------------------\u001b[0m",
      "\u001b[0;31mValueError\u001b[0m                                Traceback (most recent call last)",
      "Cell \u001b[0;32mIn[5], line 18\u001b[0m\n\u001b[1;32m     15\u001b[0m     \u001b[38;5;28;01mreturn\u001b[39;00m distance\n\u001b[1;32m     17\u001b[0m \u001b[38;5;66;03m# Calculate DTW distance from specific path to each path in the set\u001b[39;00m\n\u001b[0;32m---> 18\u001b[0m distances \u001b[38;5;241m=\u001b[39m [calculate_dtw_distance(specific_path, p) \u001b[38;5;28;01mfor\u001b[39;00m p \u001b[38;5;129;01min\u001b[39;00m path_set]\n\u001b[1;32m     20\u001b[0m \u001b[38;5;66;03m# Find the path with the minimum DTW distance\u001b[39;00m\n\u001b[1;32m     21\u001b[0m min_distance \u001b[38;5;241m=\u001b[39m \u001b[38;5;28mmin\u001b[39m(distances)\n",
      "Cell \u001b[0;32mIn[5], line 18\u001b[0m, in \u001b[0;36m<listcomp>\u001b[0;34m(.0)\u001b[0m\n\u001b[1;32m     15\u001b[0m     \u001b[38;5;28;01mreturn\u001b[39;00m distance\n\u001b[1;32m     17\u001b[0m \u001b[38;5;66;03m# Calculate DTW distance from specific path to each path in the set\u001b[39;00m\n\u001b[0;32m---> 18\u001b[0m distances \u001b[38;5;241m=\u001b[39m [\u001b[43mcalculate_dtw_distance\u001b[49m\u001b[43m(\u001b[49m\u001b[43mspecific_path\u001b[49m\u001b[43m,\u001b[49m\u001b[43m \u001b[49m\u001b[43mp\u001b[49m\u001b[43m)\u001b[49m \u001b[38;5;28;01mfor\u001b[39;00m p \u001b[38;5;129;01min\u001b[39;00m path_set]\n\u001b[1;32m     20\u001b[0m \u001b[38;5;66;03m# Find the path with the minimum DTW distance\u001b[39;00m\n\u001b[1;32m     21\u001b[0m min_distance \u001b[38;5;241m=\u001b[39m \u001b[38;5;28mmin\u001b[39m(distances)\n",
      "Cell \u001b[0;32mIn[5], line 14\u001b[0m, in \u001b[0;36mcalculate_dtw_distance\u001b[0;34m(p1, p2)\u001b[0m\n\u001b[1;32m     13\u001b[0m \u001b[38;5;28;01mdef\u001b[39;00m \u001b[38;5;21mcalculate_dtw_distance\u001b[39m(p1, p2):\n\u001b[0;32m---> 14\u001b[0m     distance \u001b[38;5;241m=\u001b[39m \u001b[43mdtw\u001b[49m\u001b[38;5;241;43m.\u001b[39;49m\u001b[43mdistance\u001b[49m\u001b[43m(\u001b[49m\u001b[43mp1\u001b[49m\u001b[43m,\u001b[49m\u001b[43m \u001b[49m\u001b[43mp2\u001b[49m\u001b[43m)\u001b[49m\n\u001b[1;32m     15\u001b[0m     \u001b[38;5;28;01mreturn\u001b[39;00m distance\n",
      "File \u001b[0;32m/opt/anaconda3/envs/ai-lecture-3.10/lib/python3.10/site-packages/dtaidistance/dtw.py:330\u001b[0m, in \u001b[0;36mdistance\u001b[0;34m(s1, s2, only_ub, **kwargs)\u001b[0m\n\u001b[1;32m    327\u001b[0m \u001b[38;5;28;01mfor\u001b[39;00m j \u001b[38;5;129;01min\u001b[39;00m \u001b[38;5;28mrange\u001b[39m(j_start, j_end):\n\u001b[1;32m    328\u001b[0m     \u001b[38;5;66;03m# d = (s1[i] - s2[j])**2\u001b[39;00m\n\u001b[1;32m    329\u001b[0m     d \u001b[38;5;241m=\u001b[39m idist_fn(s1[i], s2[j])\n\u001b[0;32m--> 330\u001b[0m     \u001b[38;5;28;01mif\u001b[39;00m d \u001b[38;5;241m>\u001b[39m s\u001b[38;5;241m.\u001b[39madj_max_step:\n\u001b[1;32m    331\u001b[0m         \u001b[38;5;28;01mcontinue\u001b[39;00m\n\u001b[1;32m    332\u001b[0m     \u001b[38;5;28;01massert\u001b[39;00m j \u001b[38;5;241m+\u001b[39m \u001b[38;5;241m1\u001b[39m \u001b[38;5;241m-\u001b[39m skip \u001b[38;5;241m>\u001b[39m\u001b[38;5;241m=\u001b[39m \u001b[38;5;241m0\u001b[39m\n",
      "\u001b[0;31mValueError\u001b[0m: The truth value of an array with more than one element is ambiguous. Use a.any() or a.all()"
     ]
    }
   ],
   "source": [
    "from dtaidistance import dtw\n",
    "import numpy as np\n",
    "\n",
    "# Convert tuples to numpy arrays, each point is its own row\n",
    "specific_path = np.array([[1, 2], [2, 3], [3, 5], [5, 8], [8, 13]])\n",
    "path_set = [\n",
    "    np.array([[1, 1], [2, 2], [3, 3], [4, 5], [5, 8]]),\n",
    "    np.array([[2, 2], [3, 4], [5, 7], [8, 11], [12, 16]]),\n",
    "    np.array([[0, 2], [1, 3], [2, 5], [4, 8], [7, 13]])\n",
    "]\n",
    "\n",
    "# Function to calculate DTW distance between two paths\n",
    "def calculate_dtw_distance(p1, p2):\n",
    "    distance = dtw.distance(p1, p2)\n",
    "    return distance\n",
    "\n",
    "# Calculate DTW distance from specific path to each path in the set\n",
    "distances = [calculate_dtw_distance(specific_path, p) for p in path_set]\n",
    "\n",
    "# Find the path with the minimum DTW distance\n",
    "min_distance = min(distances)\n",
    "most_similar_path_index = distances.index(min_distance)\n",
    "\n",
    "print(\"DTW Distances:\", distances)\n",
    "print(\"Most Similar Path Index:\", most_similar_path_index)\n",
    "print(\"Most Similar Path:\", path_set[most_similar_path_index])\n"
   ]
  },
  {
   "cell_type": "code",
   "execution_count": 6,
   "metadata": {},
   "outputs": [
    {
     "name": "stdout",
     "output_type": "stream",
     "text": [
      "DTW Distances: [8.261297173761164, 8.123105625617661, 2.0]\n",
      "Most Similar Path Index: 2\n",
      "Most Similar Path: [[ 0  2]\n",
      " [ 1  3]\n",
      " [ 2  5]\n",
      " [ 4  8]\n",
      " [ 7 13]]\n"
     ]
    }
   ],
   "source": [
    "from dtaidistance import dtw\n",
    "import numpy as np\n",
    "\n",
    "# Define your specific path and set of paths\n",
    "specific_path = np.array([[1, 2], [2, 3], [3, 5], [5, 8], [8, 13]])\n",
    "path_set = [\n",
    "    np.array([[1, 1], [2, 2], [3, 3], [4, 5], [5, 8]]),\n",
    "    np.array([[2, 2], [3, 4], [5, 7], [8, 11], [12, 16]]),\n",
    "    np.array([[0, 2], [1, 3], [2, 5], [4, 8], [7, 13]])\n",
    "]\n",
    "\n",
    "# Function to calculate DTW distance between two paths, treating each dimension separately\n",
    "def calculate_dtw_distance(p1, p2):\n",
    "    # Extract x and y coordinates\n",
    "    p1_x, p1_y = p1[:, 0], p1[:, 1]\n",
    "    p2_x, p2_y = p2[:, 0], p2[:, 1]\n",
    "    \n",
    "    # Compute DTW distance for each dimension\n",
    "    distance_x = dtw.distance(p1_x, p2_x)\n",
    "    distance_y = dtw.distance(p1_y, p2_y)\n",
    "    \n",
    "    # Combine the distances (you could also average them)\n",
    "    return distance_x + distance_y\n",
    "\n",
    "# Calculate DTW distance from specific path to each path in the set\n",
    "distances = [calculate_dtw_distance(specific_path, p) for p in path_set]\n",
    "\n",
    "# Find the path with the minimum DTW distance\n",
    "min_distance = min(distances)\n",
    "most_similar_path_index = distances.index(min_distance)\n",
    "\n",
    "print(\"DTW Distances:\", distances)\n",
    "print(\"Most Similar Path Index:\", most_similar_path_index)\n",
    "print(\"Most Similar Path:\", path_set[most_similar_path_index])\n"
   ]
  },
  {
   "cell_type": "code",
   "execution_count": 7,
   "metadata": {},
   "outputs": [
    {
     "name": "stdout",
     "output_type": "stream",
     "text": [
      "DTW Distances: [4.130648586880582, 4.061552812808831, 1.0]\n",
      "Most Similar Path Index: 2\n",
      "Most Similar Path: [[ 0  2]\n",
      " [ 1  3]\n",
      " [ 2  5]\n",
      " [ 4  8]\n",
      " [ 7 13]]\n"
     ]
    }
   ],
   "source": [
    "from dtaidistance import dtw\n",
    "import numpy as np\n",
    "import scipy.interpolate as interp\n",
    "\n",
    "def normalize_path(path, target_length):\n",
    "    # Normalize the path to have the same number of points\n",
    "    x = np.linspace(0, 1, len(path))\n",
    "    x_new = np.linspace(0, 1, target_length)\n",
    "    path_interpolated = interp.interp1d(x, path, axis=0)(x_new)\n",
    "    return path_interpolated\n",
    "\n",
    "def calculate_dtw_distance(p1, p2):\n",
    "    # Extract x and y coordinates\n",
    "    p1_x, p1_y = p1[:, 0], p1[:, 1]\n",
    "    p2_x, p2_y = p2[:, 0], p2[:, 1]\n",
    "\n",
    "    # Compute DTW distance for each dimension\n",
    "    distance_x = dtw.distance(p1_x, p2_x)\n",
    "    distance_y = dtw.distance(p1_y, p2_y)\n",
    "\n",
    "    # Return the average or sum of the distances\n",
    "    return (distance_x + distance_y) / 2  # Averaging the distance\n",
    "\n",
    "# Define paths and optionally normalize them\n",
    "specific_path = np.array([[1, 2], [2, 3], [3, 5], [5, 8], [8, 13]])\n",
    "path_set = [\n",
    "    np.array([[1, 1], [2, 2], [3, 3], [4, 5], [5, 8]]),\n",
    "    np.array([[2, 2], [3, 4], [5, 7], [8, 11], [12, 16]]),\n",
    "    np.array([[0, 2], [1, 3], [2, 5], [4, 8], [7, 13]])\n",
    "]\n",
    "\n",
    "# Normalize paths to the length of the longest path in the set\n",
    "target_length = max(len(specific_path), max(len(path) for path in path_set))\n",
    "specific_path_normalized = normalize_path(specific_path, target_length)\n",
    "path_set_normalized = [normalize_path(path, target_length) for path in path_set]\n",
    "\n",
    "# Calculate DTW distances\n",
    "distances = [calculate_dtw_distance(specific_path_normalized, p) for p in path_set_normalized]\n",
    "\n",
    "# Find the most similar path\n",
    "min_distance = min(distances)\n",
    "most_similar_path_index = distances.index(min_distance)\n",
    "\n",
    "print(\"DTW Distances:\", distances)\n",
    "print(\"Most Similar Path Index:\", most_similar_path_index)\n",
    "print(\"Most Similar Path:\", path_set[most_similar_path_index])\n"
   ]
  },
  {
   "cell_type": "code",
   "execution_count": null,
   "metadata": {},
   "outputs": [],
   "source": []
  },
  {
   "cell_type": "code",
   "execution_count": null,
   "metadata": {},
   "outputs": [],
   "source": []
  }
 ],
 "metadata": {
  "kernelspec": {
   "display_name": "ai-lecture-3.10",
   "language": "python",
   "name": "python3"
  },
  "language_info": {
   "codemirror_mode": {
    "name": "ipython",
    "version": 3
   },
   "file_extension": ".py",
   "mimetype": "text/x-python",
   "name": "python",
   "nbconvert_exporter": "python",
   "pygments_lexer": "ipython3",
   "version": "3.10.14"
  }
 },
 "nbformat": 4,
 "nbformat_minor": 2
}
